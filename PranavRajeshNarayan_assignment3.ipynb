{
  "nbformat": 4,
  "nbformat_minor": 0,
  "metadata": {
    "colab": {
      "provenance": [],
      "gpuType": "T4"
    },
    "kernelspec": {
      "name": "python3",
      "display_name": "Python 3"
    },
    "language_info": {
      "name": "python"
    },
    "accelerator": "GPU"
  },
  "cells": [
    {
      "cell_type": "code",
      "execution_count": 5,
      "metadata": {
        "id": "TM7stIUDwhKc"
      },
      "outputs": [],
      "source": [
        "import tensorflow as tf"
      ]
    },
    {
      "cell_type": "code",
      "source": [
        "def get_lines(filepath):\n",
        "    with open(filepath, 'r') as f:\n",
        "        return f.readlines()\n",
        "\n",
        "\n",
        "import csv\n",
        "\n",
        "def preprocess_text_with_line_numbers(filename):\n",
        "    abstract_samples = []  # List to store preprocessed abstract samples\n",
        "\n",
        "    with open(filename, 'r') as file:\n",
        "        reader = csv.DictReader(file)\n",
        "        for row in reader:\n",
        "            line_data = {}  # Dictionary to store information about the line\n",
        "            line_data[\"target\"] = int(row[\"is_depression\"])  # Convert target to integer (0 or 1)\n",
        "            line_data[\"text\"] = row[\"clean_text\"].lower()  # Store text (converted to lowercase)\n",
        "            abstract_samples.append(line_data)  # Append the line data to the list of abstract samples\n",
        "\n",
        "    # Add line numbers and total lines for each sample\n",
        "    for abstract_sample in abstract_samples:\n",
        "        abstract_sample[\"line_number\"] = abstract_samples.index(abstract_sample)\n",
        "        abstract_sample[\"total_lines\"] = len(abstract_samples)\n",
        "\n",
        "    return abstract_samples\n",
        "\n",
        "\n",
        "\n",
        "def split_chars(text):\n",
        "    return \" \".join(list(text))\n"
      ],
      "metadata": {
        "id": "L2Z2t18eI72C"
      },
      "execution_count": 6,
      "outputs": []
    },
    {
      "cell_type": "code",
      "source": [
        "import os\n",
        "\n",
        "data_file = '/content/depression_dataset_reddit_cleaned.csv'\n",
        "\n",
        "if os.path.exists(data_file):\n",
        "    filenames = [data_file]\n",
        "    print(filenames)"
      ],
      "metadata": {
        "colab": {
          "base_uri": "https://localhost:8080/"
        },
        "id": "pmNi-L0bJ03F",
        "outputId": "0bfbadce-4774-4132-b791-f0a27ad302f5"
      },
      "execution_count": 7,
      "outputs": [
        {
          "output_type": "stream",
          "name": "stdout",
          "text": [
            "['/content/depression_dataset_reddit_cleaned.csv']\n"
          ]
        }
      ]
    },
    {
      "cell_type": "code",
      "source": [
        "get_lines(filenames[0])[:20]"
      ],
      "metadata": {
        "colab": {
          "base_uri": "https://localhost:8080/"
        },
        "id": "gvVimPnNKzht",
        "outputId": "05ab9f4a-e6b1-4bb5-864b-e930909c4270"
      },
      "execution_count": 8,
      "outputs": [
        {
          "output_type": "execute_result",
          "data": {
            "text/plain": [
              "['clean_text,is_depression\\n',\n",
              " 'we understand that most people who reply immediately to an op with an invitation to talk privately mean only to help but this type of response usually lead to either disappointment or disaster it usually work out quite differently here than when you say pm me anytime in a casual social context we have huge admiration and appreciation for the goodwill and good citizenship of so many of you who support others here and flag inappropriate content even more so because we know that so many of you are struggling yourselves we re hard at work behind the scene on more information and resource to make it easier to give and get quality help here this is just a small start our new wiki page explains in detail why it s much better to respond in public comment at least until you ve gotten to know someone it will be maintained at r depression wiki private contact and the full text of the current version is below summary anyone who while acting a a helper invite or accepts private contact i e pm chat or any kind of offsite communication early in the conversion is showing either bad intention or bad judgement either way it s unwise to trust them pm me anytime seems like a kind and generous offer and it might be perfectly well meaning but unless and until a solid rapport ha been established it s just not a wise idea here are some point to consider before you offer or accept an invitation to communicate privately by posting supportive reply publicly you ll help more people than just the op if your response are of good quality you ll educate and inspire other helper the 9 90 rule http en wikipedia org wiki rule internet culture applies here a much a it doe anywhere else on the internet people who are struggling with serious mental health issue often justifiably have a low tolerance for disappointment and a high level of ever changing emotional need unless the helper is able to make a 00 commitment to be there for them in every way for a long a necessary offering a personal inbox a a resource is likely to do more harm than good this is why mental health crisis line responder usually don t give their name and caller aren t allowed to request specific responder it s much healthier and safer for the caller to develop a relationship with the agency a a whole analogously it s much safer and healthier for our ops to develop a relationship with the community a a whole even trained responder are generally not allowed to work high intensity situation alone it s partly about availability but it s mostly about wider perspective and preventing compassion fatigue if a helper get in over their head with someone whose mental health issue including suicidality which is often comorbid with depression escalate in a pm conversation it s much harder for others including the r depression and r suicidewatch moderator to help contrary to common assumption moderator can t see or police pm in our observation over many year the people who say pm me the most are consistently the one with the least understanding of mental health issue and mental health support we all have gap in our knowledge and in our ability to communicate effectively community input mitigates these limitation there s no reason why someone who s truly here to help would want to hide their response from community scrutiny if helper are concerned about their own privacy keep in mind that self disclosure when used supportively is more about the feeling than the detail and that we have no problem here with the use of alt throwaway account and have no restriction on account age or karma we all know the internet is used by some people to exploit or abuse others these people do want to hide their deceptive and manipulative response from everyone except their victim there are many of them who specifically target those who are vulnerable because of mental health issue if a helper invite an op to talk privately and give them a good supportive experience they ve primed that person to be more vulnerable to abuser this sort of cognitive priming tends to be particularly effective when someone s in a state of mental health crisis when people rely more on heuristic than critical reasoning if ops want to talk privately posting on a wide open anonymous forum like reddit might not be the best option although we don t recommend it we do allow ops to request private contact when asking for support if you want to do this please keep your expectation realistic and to have a careful look at the history of anyone who offer to pm before opening up to them,1\\n',\n",
              " 'welcome to r depression s check in post a place to take a moment and share what is going on and how you are doing if you have an accomplishment you want to talk about these shouldn t be standalone post in the sub a they violate the role model rule but are welcome here or are having a tough time but prefer not to make your own post this is a place you can share our subreddit rule are located in the sidebar you can also always access them at r depression about rule since all of them exist for important safety reason we ask everyone here to read and follow them please click report on any harmful content you see here we always want to know and deal a soon a we can we also have several wikis there for help with finding and giving support r depression wiki what is depression provides guidance about what is and isn t a depressive disorder guidance on the complex nature of the illness that are usually grouped under the depression label and redirect information for common off topic issue r depression wiki giving help offer information on the nature and value of peer support for mental health issue in general and lot of guidance for learning what is and isn t usually helpful in giving peer support ysk that the type of rule violation that we most frequently see interfering with people getting safe and relevant support here are people breaking the private contact rule you should never trust anyone who try to get you into a private conversation in response to a post here see r depression wiki private contact i m here to help post this show that you don t understand the most basic principle of peer support especially selectivity the giving help wiki explains more about this role modelling i e achievement or advice post this is an expert free zone that s what peer support mean rule we know that internet culture celebrate not just bragging about your achievement but bragging about your good intention nothing like that is ever acceptable here content that s more about making a statement or casually polling the sub than seeking personal support or in a comment giving it rule and 0 off topic post about difficult situation or circumstance including interpersonal loss grief sadness anger and other difficult emotion are not mental illness the what is depression wiki ha suggestion for other place to post about these issue which are 00 valid and serious but inappropriate here,1\\n',\n",
              " 'anyone else instead of sleeping more when depressed stay up all night to avoid the next day from coming sooner may be the social anxiety in me but life is so much more peaceful when everyone else is asleep and not expecting thing of you,1\\n',\n",
              " 'i ve kind of stuffed around a lot in my life delaying the inevitable of having to work a job and be a responsible adult and i m but the longest i ve ever held a job wa 9 month it wasn t that i m lazy i wa always doing other thing i enjoy but i know now unemployment ha caused most of my depression recently i just feel utterly hopeless when i think soon enough i ll have to move out on my own in some shitty house working a job i couldn t care le about to me it just seems like the perfect recipe to depression,1\\n',\n",
              " 'sleep is my greatest and most comforting escape whenever i wake up these day the literal very first emotion i feel is just misery and reminding myself of all my problem i can t even have a single second to myself it s like waking up everyday is just welcoming yourself back to hell,1\\n',\n",
              " 'i m year old turning soon in a few month i live in constant dread i have no passion no goal no special achievement in my life and never been in a relationship i don t know what i want nor what i m doing in this so called life everything just feel exhausting i cry myself to sleep everyday i also feel extremely disconnected from others i don t fit in even though i try the hardest to be a decent human being i try to treat others with kindness and respect be a good listener help people when they need my help work hard exercise on daily basis take a good care of my appearance but no matter how hard i try to present myself at best i still feel i don t fit in i still feel empty unworthy and unwanted i want to do something that i could be proud of but no matter what i do i still never feel i m good enough even for myself i crave for meaningful connection i want to have someone to share and spend my day with laugh with cry with share my handmade gift with just to see smile on their face someone that feel like home because i ve been feeling homeless all this time i want to feel loved cared for and wanted for once but it s like it s just this idea of meaningful connection that i have in my head i can even barely hold a conversation whenever i try to talk to someone i feel extremely drained i m stuck in this rabbit hole between feeling extremely lonely and not having energy to talk at the same time i don t know i just feel like i m a failure human being and want to completely disappear thanks for reading my long rant i don t have anywhere else to get my mind off,1\\n',\n",
              " 'i live alone and despite me being prone to loneliness a i find myself to be emotionally needy i seem to have the urge to cut important people out of my life when i get depressed friend girlfriend i feel easily annoyed and judgmental even if they did nothing wrong i can t explain it maybe by posting here i can find some people that can relate it sort of like a feeling of i am better off alone doe anyone else find themselves constantly having the urge to push people away it feel like i am being consumed by depression again,1\\n',\n",
              " 'i m not looking for sympathy just simply to state why i m done trying to survive i m sitting here in the dark cry my eye out before my th birthday knowing it s the last birthday i ll ever have i m tired of fighting for my life every single day sense i wa i ve been fighting i can t do it anymore i m exhausted this illness ha broken my relationship with people i can t mend and everyone is done with me and i understand i just hope everyone understands why i ve made the decision i have if my husband somehow magically find this i love you more than anything and i m sorry i had to leave this way until we meet again my squishy,1\\n',\n",
              " 'i don t know how to communicate all of my thought stay inside me instead of telling them to other people like i should my mind simply won t let me i try i really try sometimes and i have so many of them but they get lost my mind is a endless nightmare of thought of despair and hatred towards myself i feel numb and over emotional at the same time and i dont know what to do i feel like a horrible waste of human space stripped down to my bone by my past and my seemingly dim future,1\\n',\n",
              " 'mom i m sad it hurt in my heart the feeling fall into my stomach i can t stop the tear when they start mom i m sad that i never did anything that i never achieved anything that everything just fell apart i can t get up in the morning i can t focus on anything but the sadness i can t put my clean clothes away i don t have the energy to try i sleep all day because it make time go by faster it s hard for me to try and take care of my dog because that mean getting up my thought race all day about what could have been mom i m sad because i don t know if i can make it i don t know if i can keep going i don t want to break you and dad heart but i think my heart ha been broken for a very long time the fight inside me is starting to slow down everything is turning black i don t know if i can make my way to see the light anymore,1\\n',\n",
              " 'i ve been struggling with depression for a long time now but i just my first severe instance of depersonalization and it scared me so badly i m not even entirely sure why but something about the fact that i just spent over an hour lying on the floor feeling like my body didn t really belong to me and i might not be real is so extremely unsettling to me i feel more mentally and physically myself now and just trying to process what happened is really difficult if anyone ha any kind of comfort or advice about depersonalization i d appreciate it,1\\n',\n",
              " 'idk how to elaborate on it i just started suddenly cry for no real reason and couldn t stop for like 0 minute doe anyone else have this problem i m just wondering,1\\n',\n",
              " 'i tried to help his family abandoned him so it wa really hard to change his perspective im addict too gambling addiction but i will do better i hope sorry just a rant i found about it yesterday his life situation forced him to live in a mental hospital for last year and at the beginning of march he wanted to go to the germany to work a escort march he mentioned that he leaf tomorrow march i texted are you alive yesterday by googling him i found a necrology of him he killed himself march he texted many time to me about suicide thought im so sad,1\\n',\n",
              " 'to me it seems like an empty meaningless phrase people use like cool but it s not going to help the fact that i m broke can t get out of bed some day and struggling through live now,1\\n',\n",
              " 'my father committed suicide day before my th birthday i still remember this day i don t really have any memory of him so i m not really sad but for a long time i wa kinda angry at him for letting u alone with a mother like that but i realized some time ago that himself didn t want to be with her anymore and he also had a difficult life i think i m pretty sure he also had depression i feel stupid for being angry at him for so long over something like that i m happy for him now he doesn t have to suffer anymore he s free from his sadness just needed to let these thought out,1\\n',\n",
              " 'i don t think i have the ball to do it but i ve become obsessed with the idea of killing myself all i can think about is suicide i ve developed a deep and genuine hatred for myself i don t want to live to see another day i don t want to get better bc i don t deserve it i wish i had the courage to kill myself,1\\n',\n",
              " 'tw suicide yea so my recent symptom of depression wa that i thought i wa really really old i m lol there were numerous occasion where i had to convince myself of my actual age because my brain wa certain i m or had to count year from my birthday and repeat to myself over and over that i m i thought most of it wa because i m seeing a lot of successful people on social medium younger than me and because i m not finished with my uni yet because i m repeating a year but during therapy today i realized that beyond those reason i also had this subconscious plan in my head that i will barely make it past 0 like top and then i will be dead i have no idea where it came from i m not suicidal i don t think i ever wa but my brain seems convinced that by the time i m 0 i will develop suicidal thought and then before i will kill myself no wonder i thought i wa so old i have a little more than 0 year before my deadline lol and that s being generous idk why i wrote this i will probably delete this later i just needed to dump this info somewhere i don t want to worry my friend and family,1\\n',\n",
              " 'got no one to talk to have no one around i ve been procrastinating on something for so long and i have no idea when i ll ever become serious or steadfast i just feel like a total waste i ve isolated myself which is making me go crazy right now no friend at all i m literally alone now feel like shit,1\\n',\n",
              " 'i m sitting on my bed alone in my dark room smoking weed looking at the night sky and old photo listening to music i wa listening year ago and thinking about those time when everything wa fine and i knew le than i know right know it hurt so much physically and mentally,1\\n']"
            ]
          },
          "metadata": {},
          "execution_count": 8
        }
      ]
    },
    {
      "cell_type": "code",
      "source": [
        "\n",
        "all_samples = preprocess_text_with_line_numbers(filenames[0])\n",
        "\n",
        "import pandas as pd\n",
        "from sklearn.model_selection import train_test_split\n",
        "\n",
        "# Split the data into train, validation, and test sets\n",
        "train_samples, test_samples = train_test_split(all_samples, test_size=0.2, random_state=42)\n",
        "\n",
        "\n",
        "\n",
        "\n",
        "\n"
      ],
      "metadata": {
        "id": "X5ilIxIxM4dH"
      },
      "execution_count": 9,
      "outputs": []
    },
    {
      "cell_type": "code",
      "source": [
        "# Convert each set into DataFrames\n",
        "train_df = pd.DataFrame(train_samples)\n",
        "test_df = pd.DataFrame(test_samples)\n",
        "\n",
        "# Display a preview of the train DataFrame\n",
        "train_df.head(10)"
      ],
      "metadata": {
        "colab": {
          "base_uri": "https://localhost:8080/",
          "height": 363
        },
        "id": "LgGa53jEPKqV",
        "outputId": "eaa5b824-a55c-4075-b47d-92f0423024df"
      },
      "execution_count": 10,
      "outputs": [
        {
          "output_type": "execute_result",
          "data": {
            "text/plain": [
              "   target                                               text  line_number  \\\n",
              "0       1  my throat is always closed up and today it fee...         1226   \n",
              "1       1  just realized that urdu word for depression is...         3771   \n",
              "2       1  yay it s time to fuck depressed depressed adje...         2934   \n",
              "3       1  i need someone to calm me down i have a stutte...         1512   \n",
              "4       1  i have been suffering from an eating disorder ...         1882   \n",
              "5       0  bout to take my dog for a walk kinda tired asw...         7711   \n",
              "6       1  i never had illusion of grandeur growing up i ...          303   \n",
              "7       0                        kwesidei not the whole crew         3836   \n",
              "8       0  boagworld the profile picture make a happy ret...         6793   \n",
              "9       1  i got a new job two week ago it s going amazin...         1656   \n",
              "\n",
              "   total_lines  \n",
              "0         7731  \n",
              "1         7731  \n",
              "2         7731  \n",
              "3         7731  \n",
              "4         7731  \n",
              "5         7731  \n",
              "6         7731  \n",
              "7         7731  \n",
              "8         7731  \n",
              "9         7731  "
            ],
            "text/html": [
              "\n",
              "  <div id=\"df-77db02c0-b8fd-4d62-85fc-464459d9622d\" class=\"colab-df-container\">\n",
              "    <div>\n",
              "<style scoped>\n",
              "    .dataframe tbody tr th:only-of-type {\n",
              "        vertical-align: middle;\n",
              "    }\n",
              "\n",
              "    .dataframe tbody tr th {\n",
              "        vertical-align: top;\n",
              "    }\n",
              "\n",
              "    .dataframe thead th {\n",
              "        text-align: right;\n",
              "    }\n",
              "</style>\n",
              "<table border=\"1\" class=\"dataframe\">\n",
              "  <thead>\n",
              "    <tr style=\"text-align: right;\">\n",
              "      <th></th>\n",
              "      <th>target</th>\n",
              "      <th>text</th>\n",
              "      <th>line_number</th>\n",
              "      <th>total_lines</th>\n",
              "    </tr>\n",
              "  </thead>\n",
              "  <tbody>\n",
              "    <tr>\n",
              "      <th>0</th>\n",
              "      <td>1</td>\n",
              "      <td>my throat is always closed up and today it fee...</td>\n",
              "      <td>1226</td>\n",
              "      <td>7731</td>\n",
              "    </tr>\n",
              "    <tr>\n",
              "      <th>1</th>\n",
              "      <td>1</td>\n",
              "      <td>just realized that urdu word for depression is...</td>\n",
              "      <td>3771</td>\n",
              "      <td>7731</td>\n",
              "    </tr>\n",
              "    <tr>\n",
              "      <th>2</th>\n",
              "      <td>1</td>\n",
              "      <td>yay it s time to fuck depressed depressed adje...</td>\n",
              "      <td>2934</td>\n",
              "      <td>7731</td>\n",
              "    </tr>\n",
              "    <tr>\n",
              "      <th>3</th>\n",
              "      <td>1</td>\n",
              "      <td>i need someone to calm me down i have a stutte...</td>\n",
              "      <td>1512</td>\n",
              "      <td>7731</td>\n",
              "    </tr>\n",
              "    <tr>\n",
              "      <th>4</th>\n",
              "      <td>1</td>\n",
              "      <td>i have been suffering from an eating disorder ...</td>\n",
              "      <td>1882</td>\n",
              "      <td>7731</td>\n",
              "    </tr>\n",
              "    <tr>\n",
              "      <th>5</th>\n",
              "      <td>0</td>\n",
              "      <td>bout to take my dog for a walk kinda tired asw...</td>\n",
              "      <td>7711</td>\n",
              "      <td>7731</td>\n",
              "    </tr>\n",
              "    <tr>\n",
              "      <th>6</th>\n",
              "      <td>1</td>\n",
              "      <td>i never had illusion of grandeur growing up i ...</td>\n",
              "      <td>303</td>\n",
              "      <td>7731</td>\n",
              "    </tr>\n",
              "    <tr>\n",
              "      <th>7</th>\n",
              "      <td>0</td>\n",
              "      <td>kwesidei not the whole crew</td>\n",
              "      <td>3836</td>\n",
              "      <td>7731</td>\n",
              "    </tr>\n",
              "    <tr>\n",
              "      <th>8</th>\n",
              "      <td>0</td>\n",
              "      <td>boagworld the profile picture make a happy ret...</td>\n",
              "      <td>6793</td>\n",
              "      <td>7731</td>\n",
              "    </tr>\n",
              "    <tr>\n",
              "      <th>9</th>\n",
              "      <td>1</td>\n",
              "      <td>i got a new job two week ago it s going amazin...</td>\n",
              "      <td>1656</td>\n",
              "      <td>7731</td>\n",
              "    </tr>\n",
              "  </tbody>\n",
              "</table>\n",
              "</div>\n",
              "    <div class=\"colab-df-buttons\">\n",
              "\n",
              "  <div class=\"colab-df-container\">\n",
              "    <button class=\"colab-df-convert\" onclick=\"convertToInteractive('df-77db02c0-b8fd-4d62-85fc-464459d9622d')\"\n",
              "            title=\"Convert this dataframe to an interactive table.\"\n",
              "            style=\"display:none;\">\n",
              "\n",
              "  <svg xmlns=\"http://www.w3.org/2000/svg\" height=\"24px\" viewBox=\"0 -960 960 960\">\n",
              "    <path d=\"M120-120v-720h720v720H120Zm60-500h600v-160H180v160Zm220 220h160v-160H400v160Zm0 220h160v-160H400v160ZM180-400h160v-160H180v160Zm440 0h160v-160H620v160ZM180-180h160v-160H180v160Zm440 0h160v-160H620v160Z\"/>\n",
              "  </svg>\n",
              "    </button>\n",
              "\n",
              "  <style>\n",
              "    .colab-df-container {\n",
              "      display:flex;\n",
              "      gap: 12px;\n",
              "    }\n",
              "\n",
              "    .colab-df-convert {\n",
              "      background-color: #E8F0FE;\n",
              "      border: none;\n",
              "      border-radius: 50%;\n",
              "      cursor: pointer;\n",
              "      display: none;\n",
              "      fill: #1967D2;\n",
              "      height: 32px;\n",
              "      padding: 0 0 0 0;\n",
              "      width: 32px;\n",
              "    }\n",
              "\n",
              "    .colab-df-convert:hover {\n",
              "      background-color: #E2EBFA;\n",
              "      box-shadow: 0px 1px 2px rgba(60, 64, 67, 0.3), 0px 1px 3px 1px rgba(60, 64, 67, 0.15);\n",
              "      fill: #174EA6;\n",
              "    }\n",
              "\n",
              "    .colab-df-buttons div {\n",
              "      margin-bottom: 4px;\n",
              "    }\n",
              "\n",
              "    [theme=dark] .colab-df-convert {\n",
              "      background-color: #3B4455;\n",
              "      fill: #D2E3FC;\n",
              "    }\n",
              "\n",
              "    [theme=dark] .colab-df-convert:hover {\n",
              "      background-color: #434B5C;\n",
              "      box-shadow: 0px 1px 3px 1px rgba(0, 0, 0, 0.15);\n",
              "      filter: drop-shadow(0px 1px 2px rgba(0, 0, 0, 0.3));\n",
              "      fill: #FFFFFF;\n",
              "    }\n",
              "  </style>\n",
              "\n",
              "    <script>\n",
              "      const buttonEl =\n",
              "        document.querySelector('#df-77db02c0-b8fd-4d62-85fc-464459d9622d button.colab-df-convert');\n",
              "      buttonEl.style.display =\n",
              "        google.colab.kernel.accessAllowed ? 'block' : 'none';\n",
              "\n",
              "      async function convertToInteractive(key) {\n",
              "        const element = document.querySelector('#df-77db02c0-b8fd-4d62-85fc-464459d9622d');\n",
              "        const dataTable =\n",
              "          await google.colab.kernel.invokeFunction('convertToInteractive',\n",
              "                                                    [key], {});\n",
              "        if (!dataTable) return;\n",
              "\n",
              "        const docLinkHtml = 'Like what you see? Visit the ' +\n",
              "          '<a target=\"_blank\" href=https://colab.research.google.com/notebooks/data_table.ipynb>data table notebook</a>'\n",
              "          + ' to learn more about interactive tables.';\n",
              "        element.innerHTML = '';\n",
              "        dataTable['output_type'] = 'display_data';\n",
              "        await google.colab.output.renderOutput(dataTable, element);\n",
              "        const docLink = document.createElement('div');\n",
              "        docLink.innerHTML = docLinkHtml;\n",
              "        element.appendChild(docLink);\n",
              "      }\n",
              "    </script>\n",
              "  </div>\n",
              "\n",
              "\n",
              "<div id=\"df-bdaa4c86-2c29-4818-a2e8-81fa6ff16931\">\n",
              "  <button class=\"colab-df-quickchart\" onclick=\"quickchart('df-bdaa4c86-2c29-4818-a2e8-81fa6ff16931')\"\n",
              "            title=\"Suggest charts\"\n",
              "            style=\"display:none;\">\n",
              "\n",
              "<svg xmlns=\"http://www.w3.org/2000/svg\" height=\"24px\"viewBox=\"0 0 24 24\"\n",
              "     width=\"24px\">\n",
              "    <g>\n",
              "        <path d=\"M19 3H5c-1.1 0-2 .9-2 2v14c0 1.1.9 2 2 2h14c1.1 0 2-.9 2-2V5c0-1.1-.9-2-2-2zM9 17H7v-7h2v7zm4 0h-2V7h2v10zm4 0h-2v-4h2v4z\"/>\n",
              "    </g>\n",
              "</svg>\n",
              "  </button>\n",
              "\n",
              "<style>\n",
              "  .colab-df-quickchart {\n",
              "      --bg-color: #E8F0FE;\n",
              "      --fill-color: #1967D2;\n",
              "      --hover-bg-color: #E2EBFA;\n",
              "      --hover-fill-color: #174EA6;\n",
              "      --disabled-fill-color: #AAA;\n",
              "      --disabled-bg-color: #DDD;\n",
              "  }\n",
              "\n",
              "  [theme=dark] .colab-df-quickchart {\n",
              "      --bg-color: #3B4455;\n",
              "      --fill-color: #D2E3FC;\n",
              "      --hover-bg-color: #434B5C;\n",
              "      --hover-fill-color: #FFFFFF;\n",
              "      --disabled-bg-color: #3B4455;\n",
              "      --disabled-fill-color: #666;\n",
              "  }\n",
              "\n",
              "  .colab-df-quickchart {\n",
              "    background-color: var(--bg-color);\n",
              "    border: none;\n",
              "    border-radius: 50%;\n",
              "    cursor: pointer;\n",
              "    display: none;\n",
              "    fill: var(--fill-color);\n",
              "    height: 32px;\n",
              "    padding: 0;\n",
              "    width: 32px;\n",
              "  }\n",
              "\n",
              "  .colab-df-quickchart:hover {\n",
              "    background-color: var(--hover-bg-color);\n",
              "    box-shadow: 0 1px 2px rgba(60, 64, 67, 0.3), 0 1px 3px 1px rgba(60, 64, 67, 0.15);\n",
              "    fill: var(--button-hover-fill-color);\n",
              "  }\n",
              "\n",
              "  .colab-df-quickchart-complete:disabled,\n",
              "  .colab-df-quickchart-complete:disabled:hover {\n",
              "    background-color: var(--disabled-bg-color);\n",
              "    fill: var(--disabled-fill-color);\n",
              "    box-shadow: none;\n",
              "  }\n",
              "\n",
              "  .colab-df-spinner {\n",
              "    border: 2px solid var(--fill-color);\n",
              "    border-color: transparent;\n",
              "    border-bottom-color: var(--fill-color);\n",
              "    animation:\n",
              "      spin 1s steps(1) infinite;\n",
              "  }\n",
              "\n",
              "  @keyframes spin {\n",
              "    0% {\n",
              "      border-color: transparent;\n",
              "      border-bottom-color: var(--fill-color);\n",
              "      border-left-color: var(--fill-color);\n",
              "    }\n",
              "    20% {\n",
              "      border-color: transparent;\n",
              "      border-left-color: var(--fill-color);\n",
              "      border-top-color: var(--fill-color);\n",
              "    }\n",
              "    30% {\n",
              "      border-color: transparent;\n",
              "      border-left-color: var(--fill-color);\n",
              "      border-top-color: var(--fill-color);\n",
              "      border-right-color: var(--fill-color);\n",
              "    }\n",
              "    40% {\n",
              "      border-color: transparent;\n",
              "      border-right-color: var(--fill-color);\n",
              "      border-top-color: var(--fill-color);\n",
              "    }\n",
              "    60% {\n",
              "      border-color: transparent;\n",
              "      border-right-color: var(--fill-color);\n",
              "    }\n",
              "    80% {\n",
              "      border-color: transparent;\n",
              "      border-right-color: var(--fill-color);\n",
              "      border-bottom-color: var(--fill-color);\n",
              "    }\n",
              "    90% {\n",
              "      border-color: transparent;\n",
              "      border-bottom-color: var(--fill-color);\n",
              "    }\n",
              "  }\n",
              "</style>\n",
              "\n",
              "  <script>\n",
              "    async function quickchart(key) {\n",
              "      const quickchartButtonEl =\n",
              "        document.querySelector('#' + key + ' button');\n",
              "      quickchartButtonEl.disabled = true;  // To prevent multiple clicks.\n",
              "      quickchartButtonEl.classList.add('colab-df-spinner');\n",
              "      try {\n",
              "        const charts = await google.colab.kernel.invokeFunction(\n",
              "            'suggestCharts', [key], {});\n",
              "      } catch (error) {\n",
              "        console.error('Error during call to suggestCharts:', error);\n",
              "      }\n",
              "      quickchartButtonEl.classList.remove('colab-df-spinner');\n",
              "      quickchartButtonEl.classList.add('colab-df-quickchart-complete');\n",
              "    }\n",
              "    (() => {\n",
              "      let quickchartButtonEl =\n",
              "        document.querySelector('#df-bdaa4c86-2c29-4818-a2e8-81fa6ff16931 button');\n",
              "      quickchartButtonEl.style.display =\n",
              "        google.colab.kernel.accessAllowed ? 'block' : 'none';\n",
              "    })();\n",
              "  </script>\n",
              "</div>\n",
              "\n",
              "    </div>\n",
              "  </div>\n"
            ],
            "application/vnd.google.colaboratory.intrinsic+json": {
              "type": "dataframe",
              "variable_name": "train_df",
              "summary": "{\n  \"name\": \"train_df\",\n  \"rows\": 6184,\n  \"fields\": [\n    {\n      \"column\": \"target\",\n      \"properties\": {\n        \"dtype\": \"number\",\n        \"std\": 0,\n        \"min\": 0,\n        \"max\": 1,\n        \"num_unique_values\": 2,\n        \"samples\": [\n          0,\n          1\n        ],\n        \"semantic_type\": \"\",\n        \"description\": \"\"\n      }\n    },\n    {\n      \"column\": \"text\",\n      \"properties\": {\n        \"dtype\": \"string\",\n        \"num_unique_values\": 6127,\n        \"samples\": [\n          \"sir almo it wont let me play doh keep saying user not valid\",\n          \"my mental health ha been sharply declining lately for various reason and i ve found myself in a constant state of dread and paranoia i m far more nervous than usual and i m very uneasy around other people even my family in general i ve been very jumpy recently i m constantly glancing over my shoulder at shadow in the corner of my vision mostly i just feel very unnerved like the feeling you get after watching a horror movie the unnerved feeling is the worst part because it s been interfering with my sleep dae experience this and how do i make it go away\"\n        ],\n        \"semantic_type\": \"\",\n        \"description\": \"\"\n      }\n    },\n    {\n      \"column\": \"line_number\",\n      \"properties\": {\n        \"dtype\": \"number\",\n        \"std\": 2225,\n        \"min\": 1,\n        \"max\": 7730,\n        \"num_unique_values\": 6184,\n        \"samples\": [\n          5073,\n          1\n        ],\n        \"semantic_type\": \"\",\n        \"description\": \"\"\n      }\n    },\n    {\n      \"column\": \"total_lines\",\n      \"properties\": {\n        \"dtype\": \"number\",\n        \"std\": 0,\n        \"min\": 7731,\n        \"max\": 7731,\n        \"num_unique_values\": 1,\n        \"samples\": [\n          7731\n        ],\n        \"semantic_type\": \"\",\n        \"description\": \"\"\n      }\n    }\n  ]\n}"
            }
          },
          "metadata": {},
          "execution_count": 10
        }
      ]
    },
    {
      "cell_type": "code",
      "source": [
        "train_df_shuffled=train_df.sample(frac=1, random_state = 42)\n",
        "train_df_shuffled.head()"
      ],
      "metadata": {
        "colab": {
          "base_uri": "https://localhost:8080/",
          "height": 206
        },
        "id": "hEYjFYloXn8c",
        "outputId": "41c35327-e59e-4909-9681-9a0f029c5045"
      },
      "execution_count": 11,
      "outputs": [
        {
          "output_type": "execute_result",
          "data": {
            "text/plain": [
              "      target                                               text  line_number  \\\n",
              "5485       0  khqrightnow i heard them making announcement t...         5073   \n",
              "4094       1  welcome to r depression s check in post a plac...            1   \n",
              "5180       1             anapata depression juu ya nike sneaker         2832   \n",
              "5683       1  i m only year ago i wa really one of the famou...         2368   \n",
              "4753       0  is back in byron bay cafe fresh missing all my...         6990   \n",
              "\n",
              "      total_lines  \n",
              "5485         7731  \n",
              "4094         7731  \n",
              "5180         7731  \n",
              "5683         7731  \n",
              "4753         7731  "
            ],
            "text/html": [
              "\n",
              "  <div id=\"df-fb0f7b6f-8adb-4410-b01d-4f52f385603f\" class=\"colab-df-container\">\n",
              "    <div>\n",
              "<style scoped>\n",
              "    .dataframe tbody tr th:only-of-type {\n",
              "        vertical-align: middle;\n",
              "    }\n",
              "\n",
              "    .dataframe tbody tr th {\n",
              "        vertical-align: top;\n",
              "    }\n",
              "\n",
              "    .dataframe thead th {\n",
              "        text-align: right;\n",
              "    }\n",
              "</style>\n",
              "<table border=\"1\" class=\"dataframe\">\n",
              "  <thead>\n",
              "    <tr style=\"text-align: right;\">\n",
              "      <th></th>\n",
              "      <th>target</th>\n",
              "      <th>text</th>\n",
              "      <th>line_number</th>\n",
              "      <th>total_lines</th>\n",
              "    </tr>\n",
              "  </thead>\n",
              "  <tbody>\n",
              "    <tr>\n",
              "      <th>5485</th>\n",
              "      <td>0</td>\n",
              "      <td>khqrightnow i heard them making announcement t...</td>\n",
              "      <td>5073</td>\n",
              "      <td>7731</td>\n",
              "    </tr>\n",
              "    <tr>\n",
              "      <th>4094</th>\n",
              "      <td>1</td>\n",
              "      <td>welcome to r depression s check in post a plac...</td>\n",
              "      <td>1</td>\n",
              "      <td>7731</td>\n",
              "    </tr>\n",
              "    <tr>\n",
              "      <th>5180</th>\n",
              "      <td>1</td>\n",
              "      <td>anapata depression juu ya nike sneaker</td>\n",
              "      <td>2832</td>\n",
              "      <td>7731</td>\n",
              "    </tr>\n",
              "    <tr>\n",
              "      <th>5683</th>\n",
              "      <td>1</td>\n",
              "      <td>i m only year ago i wa really one of the famou...</td>\n",
              "      <td>2368</td>\n",
              "      <td>7731</td>\n",
              "    </tr>\n",
              "    <tr>\n",
              "      <th>4753</th>\n",
              "      <td>0</td>\n",
              "      <td>is back in byron bay cafe fresh missing all my...</td>\n",
              "      <td>6990</td>\n",
              "      <td>7731</td>\n",
              "    </tr>\n",
              "  </tbody>\n",
              "</table>\n",
              "</div>\n",
              "    <div class=\"colab-df-buttons\">\n",
              "\n",
              "  <div class=\"colab-df-container\">\n",
              "    <button class=\"colab-df-convert\" onclick=\"convertToInteractive('df-fb0f7b6f-8adb-4410-b01d-4f52f385603f')\"\n",
              "            title=\"Convert this dataframe to an interactive table.\"\n",
              "            style=\"display:none;\">\n",
              "\n",
              "  <svg xmlns=\"http://www.w3.org/2000/svg\" height=\"24px\" viewBox=\"0 -960 960 960\">\n",
              "    <path d=\"M120-120v-720h720v720H120Zm60-500h600v-160H180v160Zm220 220h160v-160H400v160Zm0 220h160v-160H400v160ZM180-400h160v-160H180v160Zm440 0h160v-160H620v160ZM180-180h160v-160H180v160Zm440 0h160v-160H620v160Z\"/>\n",
              "  </svg>\n",
              "    </button>\n",
              "\n",
              "  <style>\n",
              "    .colab-df-container {\n",
              "      display:flex;\n",
              "      gap: 12px;\n",
              "    }\n",
              "\n",
              "    .colab-df-convert {\n",
              "      background-color: #E8F0FE;\n",
              "      border: none;\n",
              "      border-radius: 50%;\n",
              "      cursor: pointer;\n",
              "      display: none;\n",
              "      fill: #1967D2;\n",
              "      height: 32px;\n",
              "      padding: 0 0 0 0;\n",
              "      width: 32px;\n",
              "    }\n",
              "\n",
              "    .colab-df-convert:hover {\n",
              "      background-color: #E2EBFA;\n",
              "      box-shadow: 0px 1px 2px rgba(60, 64, 67, 0.3), 0px 1px 3px 1px rgba(60, 64, 67, 0.15);\n",
              "      fill: #174EA6;\n",
              "    }\n",
              "\n",
              "    .colab-df-buttons div {\n",
              "      margin-bottom: 4px;\n",
              "    }\n",
              "\n",
              "    [theme=dark] .colab-df-convert {\n",
              "      background-color: #3B4455;\n",
              "      fill: #D2E3FC;\n",
              "    }\n",
              "\n",
              "    [theme=dark] .colab-df-convert:hover {\n",
              "      background-color: #434B5C;\n",
              "      box-shadow: 0px 1px 3px 1px rgba(0, 0, 0, 0.15);\n",
              "      filter: drop-shadow(0px 1px 2px rgba(0, 0, 0, 0.3));\n",
              "      fill: #FFFFFF;\n",
              "    }\n",
              "  </style>\n",
              "\n",
              "    <script>\n",
              "      const buttonEl =\n",
              "        document.querySelector('#df-fb0f7b6f-8adb-4410-b01d-4f52f385603f button.colab-df-convert');\n",
              "      buttonEl.style.display =\n",
              "        google.colab.kernel.accessAllowed ? 'block' : 'none';\n",
              "\n",
              "      async function convertToInteractive(key) {\n",
              "        const element = document.querySelector('#df-fb0f7b6f-8adb-4410-b01d-4f52f385603f');\n",
              "        const dataTable =\n",
              "          await google.colab.kernel.invokeFunction('convertToInteractive',\n",
              "                                                    [key], {});\n",
              "        if (!dataTable) return;\n",
              "\n",
              "        const docLinkHtml = 'Like what you see? Visit the ' +\n",
              "          '<a target=\"_blank\" href=https://colab.research.google.com/notebooks/data_table.ipynb>data table notebook</a>'\n",
              "          + ' to learn more about interactive tables.';\n",
              "        element.innerHTML = '';\n",
              "        dataTable['output_type'] = 'display_data';\n",
              "        await google.colab.output.renderOutput(dataTable, element);\n",
              "        const docLink = document.createElement('div');\n",
              "        docLink.innerHTML = docLinkHtml;\n",
              "        element.appendChild(docLink);\n",
              "      }\n",
              "    </script>\n",
              "  </div>\n",
              "\n",
              "\n",
              "<div id=\"df-c36f3bdc-c3e0-4eb3-8a74-f32d8b3be244\">\n",
              "  <button class=\"colab-df-quickchart\" onclick=\"quickchart('df-c36f3bdc-c3e0-4eb3-8a74-f32d8b3be244')\"\n",
              "            title=\"Suggest charts\"\n",
              "            style=\"display:none;\">\n",
              "\n",
              "<svg xmlns=\"http://www.w3.org/2000/svg\" height=\"24px\"viewBox=\"0 0 24 24\"\n",
              "     width=\"24px\">\n",
              "    <g>\n",
              "        <path d=\"M19 3H5c-1.1 0-2 .9-2 2v14c0 1.1.9 2 2 2h14c1.1 0 2-.9 2-2V5c0-1.1-.9-2-2-2zM9 17H7v-7h2v7zm4 0h-2V7h2v10zm4 0h-2v-4h2v4z\"/>\n",
              "    </g>\n",
              "</svg>\n",
              "  </button>\n",
              "\n",
              "<style>\n",
              "  .colab-df-quickchart {\n",
              "      --bg-color: #E8F0FE;\n",
              "      --fill-color: #1967D2;\n",
              "      --hover-bg-color: #E2EBFA;\n",
              "      --hover-fill-color: #174EA6;\n",
              "      --disabled-fill-color: #AAA;\n",
              "      --disabled-bg-color: #DDD;\n",
              "  }\n",
              "\n",
              "  [theme=dark] .colab-df-quickchart {\n",
              "      --bg-color: #3B4455;\n",
              "      --fill-color: #D2E3FC;\n",
              "      --hover-bg-color: #434B5C;\n",
              "      --hover-fill-color: #FFFFFF;\n",
              "      --disabled-bg-color: #3B4455;\n",
              "      --disabled-fill-color: #666;\n",
              "  }\n",
              "\n",
              "  .colab-df-quickchart {\n",
              "    background-color: var(--bg-color);\n",
              "    border: none;\n",
              "    border-radius: 50%;\n",
              "    cursor: pointer;\n",
              "    display: none;\n",
              "    fill: var(--fill-color);\n",
              "    height: 32px;\n",
              "    padding: 0;\n",
              "    width: 32px;\n",
              "  }\n",
              "\n",
              "  .colab-df-quickchart:hover {\n",
              "    background-color: var(--hover-bg-color);\n",
              "    box-shadow: 0 1px 2px rgba(60, 64, 67, 0.3), 0 1px 3px 1px rgba(60, 64, 67, 0.15);\n",
              "    fill: var(--button-hover-fill-color);\n",
              "  }\n",
              "\n",
              "  .colab-df-quickchart-complete:disabled,\n",
              "  .colab-df-quickchart-complete:disabled:hover {\n",
              "    background-color: var(--disabled-bg-color);\n",
              "    fill: var(--disabled-fill-color);\n",
              "    box-shadow: none;\n",
              "  }\n",
              "\n",
              "  .colab-df-spinner {\n",
              "    border: 2px solid var(--fill-color);\n",
              "    border-color: transparent;\n",
              "    border-bottom-color: var(--fill-color);\n",
              "    animation:\n",
              "      spin 1s steps(1) infinite;\n",
              "  }\n",
              "\n",
              "  @keyframes spin {\n",
              "    0% {\n",
              "      border-color: transparent;\n",
              "      border-bottom-color: var(--fill-color);\n",
              "      border-left-color: var(--fill-color);\n",
              "    }\n",
              "    20% {\n",
              "      border-color: transparent;\n",
              "      border-left-color: var(--fill-color);\n",
              "      border-top-color: var(--fill-color);\n",
              "    }\n",
              "    30% {\n",
              "      border-color: transparent;\n",
              "      border-left-color: var(--fill-color);\n",
              "      border-top-color: var(--fill-color);\n",
              "      border-right-color: var(--fill-color);\n",
              "    }\n",
              "    40% {\n",
              "      border-color: transparent;\n",
              "      border-right-color: var(--fill-color);\n",
              "      border-top-color: var(--fill-color);\n",
              "    }\n",
              "    60% {\n",
              "      border-color: transparent;\n",
              "      border-right-color: var(--fill-color);\n",
              "    }\n",
              "    80% {\n",
              "      border-color: transparent;\n",
              "      border-right-color: var(--fill-color);\n",
              "      border-bottom-color: var(--fill-color);\n",
              "    }\n",
              "    90% {\n",
              "      border-color: transparent;\n",
              "      border-bottom-color: var(--fill-color);\n",
              "    }\n",
              "  }\n",
              "</style>\n",
              "\n",
              "  <script>\n",
              "    async function quickchart(key) {\n",
              "      const quickchartButtonEl =\n",
              "        document.querySelector('#' + key + ' button');\n",
              "      quickchartButtonEl.disabled = true;  // To prevent multiple clicks.\n",
              "      quickchartButtonEl.classList.add('colab-df-spinner');\n",
              "      try {\n",
              "        const charts = await google.colab.kernel.invokeFunction(\n",
              "            'suggestCharts', [key], {});\n",
              "      } catch (error) {\n",
              "        console.error('Error during call to suggestCharts:', error);\n",
              "      }\n",
              "      quickchartButtonEl.classList.remove('colab-df-spinner');\n",
              "      quickchartButtonEl.classList.add('colab-df-quickchart-complete');\n",
              "    }\n",
              "    (() => {\n",
              "      let quickchartButtonEl =\n",
              "        document.querySelector('#df-c36f3bdc-c3e0-4eb3-8a74-f32d8b3be244 button');\n",
              "      quickchartButtonEl.style.display =\n",
              "        google.colab.kernel.accessAllowed ? 'block' : 'none';\n",
              "    })();\n",
              "  </script>\n",
              "</div>\n",
              "\n",
              "    </div>\n",
              "  </div>\n"
            ],
            "application/vnd.google.colaboratory.intrinsic+json": {
              "type": "dataframe",
              "variable_name": "train_df_shuffled",
              "summary": "{\n  \"name\": \"train_df_shuffled\",\n  \"rows\": 6184,\n  \"fields\": [\n    {\n      \"column\": \"target\",\n      \"properties\": {\n        \"dtype\": \"number\",\n        \"std\": 0,\n        \"min\": 0,\n        \"max\": 1,\n        \"num_unique_values\": 2,\n        \"samples\": [\n          1,\n          0\n        ],\n        \"semantic_type\": \"\",\n        \"description\": \"\"\n      }\n    },\n    {\n      \"column\": \"text\",\n      \"properties\": {\n        \"dtype\": \"string\",\n        \"num_unique_values\": 6127,\n        \"samples\": [\n          \"i sometimes wish i could do it just finally end it then i catch myself and i tell myself why i am here for me i am so tired i am tired of working my 9 job i am tired of repeating everything over and over again i feel like everything i have in my life i destroy i am trying my best to move on from my break up i reflected and i pushed him away i wa toxic i feel like a shitty human being that maybe doe deserve to die if i could take it all back i would i tried so hard to keep the relationship healthy that in the end it wasn t the worst part is i made him feel like he couldn t even tell me how he felt the day he discussed it with his friend wa the same day we hung out he never said a word i just don t want to be here right now i just want to disappear i ruined everything in my life i am done i m not going to end it because thinking of the pain i cause others hurt but being alive hurt me more\",\n          \"i lost a coworker to suicide i wa the last person he talked to at work i wonder if that ha made me think about ending it after what happened a i explained in my post about me be bisexual the leap to this mind set did not seem a far any comment would be good it http good it feel so scary bein g in this mindest\"\n        ],\n        \"semantic_type\": \"\",\n        \"description\": \"\"\n      }\n    },\n    {\n      \"column\": \"line_number\",\n      \"properties\": {\n        \"dtype\": \"number\",\n        \"std\": 2225,\n        \"min\": 1,\n        \"max\": 7730,\n        \"num_unique_values\": 6184,\n        \"samples\": [\n          1474,\n          520\n        ],\n        \"semantic_type\": \"\",\n        \"description\": \"\"\n      }\n    },\n    {\n      \"column\": \"total_lines\",\n      \"properties\": {\n        \"dtype\": \"number\",\n        \"std\": 0,\n        \"min\": 7731,\n        \"max\": 7731,\n        \"num_unique_values\": 1,\n        \"samples\": [\n          7731\n        ],\n        \"semantic_type\": \"\",\n        \"description\": \"\"\n      }\n    }\n  ]\n}"
            }
          },
          "metadata": {},
          "execution_count": 11
        }
      ]
    },
    {
      "cell_type": "code",
      "source": [
        "import random\n",
        "random_index = random.randint(0,len(train_df)-1)\n",
        "for row in train_df_shuffled[[\"text\", 'target']][random_index: random_index+5].itertuples():\n",
        "  index,text,target = row\n",
        "  print(f\"Target: {target}; {'is depression' if target!=0 else 'not depression'}\")\n",
        "  print(\"Text:\",text,end='\\n')\n",
        "  print(\"--\"*20)"
      ],
      "metadata": {
        "colab": {
          "base_uri": "https://localhost:8080/"
        },
        "id": "hu2uitOQXBFu",
        "outputId": "13a41a8d-dbb6-4dd1-f30c-d7ac0a68c8f4"
      },
      "execution_count": 12,
      "outputs": [
        {
          "output_type": "stream",
          "name": "stdout",
          "text": [
            "Target: 0; not depression\n",
            "Text: just had a tonne of sad news today\n",
            "----------------------------------------\n",
            "Target: 0; not depression\n",
            "Text: weebeedee run wa great thanks is very windy today so bike ride not an option this morning\n",
            "----------------------------------------\n",
            "Target: 0; not depression\n",
            "Text: making a short video window movie maker ha crashed for 0th time but my middle name is perseverence p should finish the video soon\n",
            "----------------------------------------\n",
            "Target: 1; is depression\n",
            "Text: tired of detail just going to get to the point i have attempted before and lately i ve been feeling like attempting again might try to think of a plan or talk myself out of it idk yet we ll see how life treat me the next few day\n",
            "----------------------------------------\n",
            "Target: 1; is depression\n",
            "Text: making plan jotting them down laugh emoji response my friend don t know my sentence end in an unspoken if by then i m still alive tightness in the chest with each breath eating and hating myself not eating and hating myself just hating myself a i hold back tear steadily typing despite intrusive thought of suicide what is the cleanest way to go the least intrusive a way to contain the mess a way so what s left can do some good scenario play in my mind some may notice a few will cry no one break everyone move on my life is pointless pointless pointless i am useless useless useless if i keep smiling and laughing and eating and talking no one will see me shaking no one will see my tear no one will see my bruise or hear my unspoken word if by then i m still alive thanks for reading my crappy writing if you made it this far i wrote this tonight because my brain wouldn t shut up i ve had all these thought on and off for a while now i feel like these thought are becoming more and more frequent and intrusive i reached out to my primary care physician asking about a psychiatrist and i wa told to find one myself since it wasn t clear i needed a referral then i tried a couple of time to find one online and couldn t find one in my area i wa willing to talk to so i gave up if i m at work and interacting i m mostly ok i think i only had really fucked up thought once or twice but if i m alone at night my brain go haywire and this stuff pop in i need to stay busy to keep it out but i m too lazy to stay busy enough to keep it out anyway i m not a danger to myself right now i don t have the mean to play out the scenario in my head and i haven t tried to get them i don t want anyone i know to read this but i need to share it somewhere so i can only post it here\n",
            "----------------------------------------\n"
          ]
        }
      ]
    },
    {
      "cell_type": "code",
      "source": [
        "from sklearn.model_selection import train_test_split\n",
        "train_sentences,val_sentences,train_labels,val_labels=train_test_split(train_df_shuffled['text'].to_numpy(),\n",
        "                                                                       train_df_shuffled['target'].to_numpy(),\n",
        "                                                                       test_size=0.7,\n",
        "                                                                       random_state=42)"
      ],
      "metadata": {
        "id": "I-ofhEePYPrO"
      },
      "execution_count": 13,
      "outputs": []
    },
    {
      "cell_type": "code",
      "source": [
        "max_vocab_length = 10000\n",
        "max_length = round(sum([len(i.split()) for i in train_sentences])/len(train_sentences))\n",
        "max_length"
      ],
      "metadata": {
        "colab": {
          "base_uri": "https://localhost:8080/"
        },
        "id": "PFASvlNNYRdE",
        "outputId": "d4a4c439-5f12-4016-aedb-a6dae158e920"
      },
      "execution_count": 14,
      "outputs": [
        {
          "output_type": "execute_result",
          "data": {
            "text/plain": [
              "73"
            ]
          },
          "metadata": {},
          "execution_count": 14
        }
      ]
    },
    {
      "cell_type": "code",
      "source": [
        "#convert text to numbers\n",
        "text_vectorizer = tf.keras.layers.TextVectorization(max_tokens=max_vocab_length,\n",
        "                                                    output_sequence_length=max_length)"
      ],
      "metadata": {
        "id": "RwZNCPfRYWQt"
      },
      "execution_count": 15,
      "outputs": []
    },
    {
      "cell_type": "code",
      "source": [
        "text_vectorizer.adapt(train_sentences) #done for  building a vocabulary, handling OOV words, ensuring consistency, and optimizing processing efficiency."
      ],
      "metadata": {
        "id": "MuzCYzfHYaFv"
      },
      "execution_count": 16,
      "outputs": []
    },
    {
      "cell_type": "code",
      "source": [
        "words=text_vectorizer.get_vocabulary()\n",
        "words[:5]"
      ],
      "metadata": {
        "colab": {
          "base_uri": "https://localhost:8080/"
        },
        "id": "F_HFDuH0YdhK",
        "outputId": "1a1651eb-1252-48fa-bb73-f615ffadaa60"
      },
      "execution_count": 17,
      "outputs": [
        {
          "output_type": "execute_result",
          "data": {
            "text/plain": [
              "['', '[UNK]', 'i', 'to', 'and']"
            ]
          },
          "metadata": {},
          "execution_count": 17
        }
      ]
    },
    {
      "cell_type": "code",
      "source": [
        "#embedding\n",
        "embedding=tf.keras.layers.Embedding(input_dim=max_vocab_length,\n",
        "                                    output_dim=128,\n",
        "                                    input_length=max_length)"
      ],
      "metadata": {
        "id": "2jWCF_kOYnq1"
      },
      "execution_count": 18,
      "outputs": []
    },
    {
      "cell_type": "code",
      "source": [
        "import tensorflow_hub as hub     #USE\n",
        "\n",
        "embed = hub.load(\"https://www.kaggle.com/models/google/universal-sentence-encoder/frameworks/TensorFlow2/variations/universal-sentence-encoder/versions/2\")\n",
        "embeddings = embed([\n",
        "    \"The quick brown fox jumps over the lazy dog.\",\n",
        "    \"I am a sentence for which I would like to get its embedding\"])\n",
        "\n",
        "print(embeddings)"
      ],
      "metadata": {
        "colab": {
          "base_uri": "https://localhost:8080/"
        },
        "id": "SZAqdD0jZKeV",
        "outputId": "17d2372f-a5ff-4edf-e3bd-151f187111d5"
      },
      "execution_count": 19,
      "outputs": [
        {
          "output_type": "stream",
          "name": "stdout",
          "text": [
            "tf.Tensor(\n",
            "[[-0.03133019 -0.06338634 -0.01607501 ... -0.03242779 -0.0457574\n",
            "   0.05370456]\n",
            " [ 0.0508086  -0.01652431  0.01573776 ...  0.00976659  0.03170118\n",
            "   0.01788118]], shape=(2, 512), dtype=float32)\n"
          ]
        }
      ]
    },
    {
      "cell_type": "code",
      "source": [
        "sentence_encoder=hub.KerasLayer(embed,input_shape=[],dtype=tf.string,trainable=False)"
      ],
      "metadata": {
        "id": "gxSRDDrnZll9"
      },
      "execution_count": 20,
      "outputs": []
    },
    {
      "cell_type": "code",
      "source": [
        "model=tf.keras.models.Sequential([\n",
        "    sentence_encoder,\n",
        "    tf.keras.layers.Dense(64),\n",
        "    tf.keras.layers.Dense(32),\n",
        "    tf.keras.layers.Dense(1,activation='sigmoid')\n",
        "\n",
        "])\n",
        "\n",
        "model.compile(loss=tf.keras.losses.BinaryCrossentropy(),\n",
        "                optimizer=tf.keras.optimizers.Adam(learning_rate=0.001),\n",
        "                metrics=['accuracy'])\n",
        "history=model.fit(train_sentences, train_labels, epochs=5,validation_data=(val_sentences,val_labels))"
      ],
      "metadata": {
        "colab": {
          "base_uri": "https://localhost:8080/"
        },
        "id": "Qc1QK7wMZ-Nm",
        "outputId": "26f64909-d768-45a7-baf1-236b0e737777"
      },
      "execution_count": 21,
      "outputs": [
        {
          "output_type": "stream",
          "name": "stdout",
          "text": [
            "Epoch 1/5\n",
            "58/58 [==============================] - 10s 103ms/step - loss: 0.3077 - accuracy: 0.9396 - val_loss: 0.1104 - val_accuracy: 0.9665\n",
            "Epoch 2/5\n",
            "58/58 [==============================] - 4s 76ms/step - loss: 0.0812 - accuracy: 0.9741 - val_loss: 0.0875 - val_accuracy: 0.9720\n",
            "Epoch 3/5\n",
            "58/58 [==============================] - 7s 114ms/step - loss: 0.0579 - accuracy: 0.9779 - val_loss: 0.0879 - val_accuracy: 0.9697\n",
            "Epoch 4/5\n",
            "58/58 [==============================] - 4s 78ms/step - loss: 0.0446 - accuracy: 0.9854 - val_loss: 0.0919 - val_accuracy: 0.9677\n",
            "Epoch 5/5\n",
            "58/58 [==============================] - 6s 112ms/step - loss: 0.0364 - accuracy: 0.9892 - val_loss: 0.1035 - val_accuracy: 0.9670\n"
          ]
        }
      ]
    },
    {
      "cell_type": "code",
      "source": [
        "model.predict(['i feel sad and want to kill myself'])"
      ],
      "metadata": {
        "colab": {
          "base_uri": "https://localhost:8080/"
        },
        "id": "ZnICl52XaOZN",
        "outputId": "b25b31f1-f929-490e-9749-86d634c432bb"
      },
      "execution_count": 22,
      "outputs": [
        {
          "output_type": "stream",
          "name": "stdout",
          "text": [
            "1/1 [==============================] - 0s 386ms/step\n"
          ]
        },
        {
          "output_type": "execute_result",
          "data": {
            "text/plain": [
              "array([[0.9996624]], dtype=float32)"
            ]
          },
          "metadata": {},
          "execution_count": 22
        }
      ]
    },
    {
      "cell_type": "code",
      "source": [
        "model.predict(['i feel a bit off so ill go take a jolly walk'])"
      ],
      "metadata": {
        "colab": {
          "base_uri": "https://localhost:8080/"
        },
        "id": "e1cgTuS9aWbI",
        "outputId": "d6e3fcfa-9c3c-4d1d-9bf3-6f9307c16901"
      },
      "execution_count": 23,
      "outputs": [
        {
          "output_type": "stream",
          "name": "stdout",
          "text": [
            "1/1 [==============================] - 0s 34ms/step\n"
          ]
        },
        {
          "output_type": "execute_result",
          "data": {
            "text/plain": [
              "array([[3.542017e-05]], dtype=float32)"
            ]
          },
          "metadata": {},
          "execution_count": 23
        }
      ]
    },
    {
      "cell_type": "code",
      "source": [
        "model.predict(['i feel like im a burden to everyone around me'])"
      ],
      "metadata": {
        "colab": {
          "base_uri": "https://localhost:8080/"
        },
        "id": "u7dM1c7Mbkwy",
        "outputId": "14070507-0e05-4abb-e875-a0e2db4515cc"
      },
      "execution_count": 27,
      "outputs": [
        {
          "output_type": "stream",
          "name": "stdout",
          "text": [
            "1/1 [==============================] - 0s 35ms/step\n"
          ]
        },
        {
          "output_type": "execute_result",
          "data": {
            "text/plain": [
              "array([[0.9680723]], dtype=float32)"
            ]
          },
          "metadata": {},
          "execution_count": 27
        }
      ]
    },
    {
      "cell_type": "code",
      "source": [
        "model.predict(['im so happy with the gift i got i could cry'])"
      ],
      "metadata": {
        "colab": {
          "base_uri": "https://localhost:8080/"
        },
        "id": "l6I1vuUVj64p",
        "outputId": "a7ef4c00-73ff-43d0-bca7-5128d6e02be9"
      },
      "execution_count": 25,
      "outputs": [
        {
          "output_type": "stream",
          "name": "stdout",
          "text": [
            "1/1 [==============================] - 0s 34ms/step\n"
          ]
        },
        {
          "output_type": "execute_result",
          "data": {
            "text/plain": [
              "array([[4.748793e-05]], dtype=float32)"
            ]
          },
          "metadata": {},
          "execution_count": 25
        }
      ]
    },
    {
      "cell_type": "code",
      "source": [
        "# Reshape test data to match expected input shape\n",
        "test_text_data = test_df['text'].values.reshape(-1)\n",
        "\n",
        "# Evaluate the model on test data\n",
        "test_loss, test_accuracy = model.evaluate(test_text_data, test_df['target'])\n",
        "\n",
        "print(f\"Test Loss: {test_loss}\")\n",
        "print(f\"Test Accuracy: {test_accuracy}\")\n"
      ],
      "metadata": {
        "colab": {
          "base_uri": "https://localhost:8080/"
        },
        "id": "YwQ4Z0mElzFp",
        "outputId": "8b22b0b4-578f-4753-c443-b37aa7f374f0"
      },
      "execution_count": 26,
      "outputs": [
        {
          "output_type": "stream",
          "name": "stdout",
          "text": [
            "49/49 [==============================] - 3s 25ms/step - loss: 0.0984 - accuracy: 0.9690\n",
            "Test Loss: 0.09844008833169937\n",
            "Test Accuracy: 0.9689722061157227\n"
          ]
        }
      ]
    }
  ]
}